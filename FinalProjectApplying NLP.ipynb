{
 "cells": [
  {
   "cell_type": "markdown",
   "metadata": {},
   "source": [
    "# Final Project Applying NLP"
   ]
  },
  {
   "cell_type": "markdown",
   "metadata": {},
   "source": [
    "## Project Description: \n",
    "Sentiment analysis: the sentiment of the textual data will be analyzed and classified into at least 3 classes."
   ]
  },
  {
   "cell_type": "markdown",
   "metadata": {},
   "source": [
    "### 1. Data Collection "
   ]
  },
  {
   "cell_type": "markdown",
   "metadata": {},
   "source": [
    "#### 1.1 Collect a dataset of product reviews"
   ]
  },
  {
   "cell_type": "markdown",
   "metadata": {},
   "source": [
    "- Source data: https://www.kaggle.com/code/mehmetisik/rating-product-sorting-reviews-in-amazon/input"
   ]
  },
  {
   "cell_type": "markdown",
   "metadata": {},
   "source": [
    "#### 1.2 Annotate the dataset"
   ]
  },
  {
   "cell_type": "markdown",
   "metadata": {},
   "source": [
    "- With labels of positive, negative or neutral sentiment, based on\n",
    "collected data"
   ]
  },
  {
   "cell_type": "code",
   "execution_count": 4,
   "metadata": {},
   "outputs": [
    {
     "name": "stdout",
     "output_type": "stream",
     "text": [
      "Labeled file saved at: ./data/reviews_aws/amazon_review_labeled.csv\n",
      "       reviewerID        asin  reviewerName helpful  \\\n",
      "0  A3SBTW3WS4IQSN  B007WTAJTO           NaN  [0, 0]   \n",
      "1  A18K1ODH1I2MVB  B007WTAJTO          0mie  [0, 0]   \n",
      "2  A2FII3I2MBMUIA  B007WTAJTO           1K3  [0, 0]   \n",
      "3   A3H99DFEG68SR  B007WTAJTO           1m2  [0, 0]   \n",
      "4  A375ZM4U047O79  B007WTAJTO  2&amp;1/2Men  [0, 0]   \n",
      "\n",
      "                                          reviewText  overall  \\\n",
      "0                                         No issues.      4.0   \n",
      "1  Purchased this for my device, it worked as adv...      5.0   \n",
      "2  it works as expected. I should have sprung for...      4.0   \n",
      "3  This think has worked out great.Had a diff. br...      5.0   \n",
      "4  Bought it with Retail Packaging, arrived legit...      5.0   \n",
      "\n",
      "                                  summary  unixReviewTime  reviewTime  \\\n",
      "0                              Four Stars      1406073600  2014-07-23   \n",
      "1                           MOAR SPACE!!!      1382659200  2013-10-25   \n",
      "2               nothing to really say....      1356220800  2012-12-23   \n",
      "3  Great buy at this price!!!  *** UPDATE      1384992000  2013-11-21   \n",
      "4                        best deal around      1373673600  2013-07-13   \n",
      "\n",
      "   day_diff  helpful_yes  total_vote sentiment  \n",
      "0       138            0           0  Positive  \n",
      "1       409            0           0  Positive  \n",
      "2       715            0           0  Positive  \n",
      "3       382            0           0  Positive  \n",
      "4       513            0           0  Positive  \n"
     ]
    }
   ],
   "source": [
    "import pandas as pd\n",
    "\n",
    "# Load the CSV file\n",
    "file_path = \"./data/reviews_aws/amazon_review.csv\"\n",
    "try:\n",
    "    data = pd.read_csv(file_path)\n",
    "except FileNotFoundError:\n",
    "    print(f\"Error: File not found at {file_path}\")\n",
    "    exit()\n",
    "\n",
    "# Verify that the 'overall' column exists and is numeric\n",
    "if 'overall' not in data.columns:\n",
    "    print(\"Error: 'overall' column is missing in the dataset.\")\n",
    "    exit()\n",
    "if not pd.api.types.is_numeric_dtype(data['overall']):\n",
    "    print(\"Error: 'overall' column must contain numeric data.\")\n",
    "    exit()\n",
    "\n",
    "# Function to label sentiment\n",
    "def label_sentiment(overall):\n",
    "    if overall >= 4:\n",
    "        return \"Positive\"\n",
    "    elif overall == 3:\n",
    "        return \"Neutral\"\n",
    "    else:\n",
    "        return \"Negative\"\n",
    "\n",
    "# Add sentiment labels\n",
    "data['sentiment'] = data['overall'].apply(label_sentiment)\n",
    "\n",
    "# Save the updated file\n",
    "output_path = \"./data/reviews_aws/amazon_review_labeled.csv\"\n",
    "data.to_csv(output_path, index=False)\n",
    "\n",
    "# Print confirmation\n",
    "print(f\"Labeled file saved at: {output_path}\")\n",
    "print(data.head())  # Display the first few rows of the updated dataset\n",
    "\n"
   ]
  }
 ],
 "metadata": {
  "kernelspec": {
   "display_name": "Python 3",
   "language": "python",
   "name": "python3"
  },
  "language_info": {
   "codemirror_mode": {
    "name": "ipython",
    "version": 3
   },
   "file_extension": ".py",
   "mimetype": "text/x-python",
   "name": "python",
   "nbconvert_exporter": "python",
   "pygments_lexer": "ipython3",
   "version": "3.11.9"
  }
 },
 "nbformat": 4,
 "nbformat_minor": 2
}
