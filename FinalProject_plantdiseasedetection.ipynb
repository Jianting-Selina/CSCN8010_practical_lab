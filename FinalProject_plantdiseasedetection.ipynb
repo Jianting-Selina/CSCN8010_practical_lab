{
 "cells": [
  {
   "cell_type": "markdown",
   "metadata": {},
   "source": [
    "### Group 19:\n",
    "Jianting Liu(8950907)\n"
   ]
  },
  {
   "cell_type": "markdown",
   "metadata": {},
   "source": [
    "### Strawberry disease detection(image classification)"
   ]
  },
  {
   "cell_type": "markdown",
   "metadata": {},
   "source": [
    "**import libraries**"
   ]
  },
  {
   "cell_type": "code",
   "execution_count": null,
   "metadata": {},
   "outputs": [],
   "source": [
    "import numpy as np\n",
    "import tensorflow as tf\n",
    "from tensorflow import keras\n",
    "from tensorflow.keras import layers\n",
    "import pathlib"
   ]
  },
  {
   "cell_type": "markdown",
   "metadata": {},
   "source": [
    "## 1. Obtain the Data: Get strawberry dataset \n",
    "**Download dataset from Kaggle:https://www.kaggle.com/datasets/abdallahalidev/plantvillage-dataset**"
   ]
  },
  {
   "cell_type": "code",
   "execution_count": 7,
   "metadata": {},
   "outputs": [
    {
     "name": "stdout",
     "output_type": "stream",
     "text": [
      "456 images have been renamed in the folder ./data/strawberry/Strawberry___healthy.\n"
     ]
    }
   ],
   "source": [
    "import os\n",
    "\n",
    "def rename_images_in_folder(folder, prefix):\n",
    "    \"\"\"\n",
    "    Renames all images in a specified folder with a given prefix.\n",
    "\n",
    "    Args:\n",
    "        folder (str): Path to the folder containing the images.\n",
    "        prefix (str): Prefix for the new image names.\n",
    "    \"\"\"\n",
    "    # Get a list of files in the folder\n",
    "    files = os.listdir(folder)\n",
    "\n",
    "    # Filter only files with common image extensions\n",
    "    valid_extensions = {\".jpg\", \".jpeg\", \".png\", \".bmp\", \".gif\"}\n",
    "    images = [file for file in files if os.path.splitext(file)[1].lower() in valid_extensions]\n",
    "\n",
    "    # Rename the images\n",
    "    for index, image in enumerate(images, start=1):\n",
    "        # Get the file extension\n",
    "        extension = os.path.splitext(image)[1]\n",
    "        \n",
    "        # Create the new name\n",
    "        new_name = f\"{prefix}{index}{extension}\"\n",
    "        \n",
    "        # Full paths for the current and new files\n",
    "        current_path = os.path.join(folder, image)\n",
    "        new_path = os.path.join(folder, new_name)\n",
    "        \n",
    "        # Rename the file\n",
    "        os.rename(current_path, new_path)\n",
    "\n",
    "    print(f\"{len(images)} images have been renamed in the folder {folder}.\")\n",
    "\n",
    "# Usage examples\n",
    "rename_images_in_folder(\"./data/strawberry/Strawberry___healthy\", \"strawberry_healthy_\")\n",
    "rename_images_in_folder(\"./data/strawberry/Strawberry___Leaf_scorch\", \"strawberry_leaf_scorch_\")\n",
    "\n",
    "\n"
   ]
  },
  {
   "cell_type": "code",
   "execution_count": null,
   "metadata": {},
   "outputs": [],
   "source": [
    "import os, shutil, pathlib\n",
    "\n",
    "original_dir = pathlib.Path(\"./data/kaggle_dogs_vs_cats/train\")\n",
    "new_base_dir = pathlib.Path(\"./data/kaggle_dogs_vs_cats_small\")\n",
    "\n",
    "def make_subset(subset_name, start_index, end_index):\n",
    "    for category in (\"cat\", \"dog\"):\n",
    "        dir = new_base_dir / subset_name / category\n",
    "        os.makedirs(dir)\n",
    "        fnames = [f\"{category}.{i}.jpg\" for i in range(start_index, end_index)]\n",
    "        for fname in fnames:\n",
    "            shutil.copyfile(src=original_dir / fname,\n",
    "                            dst=dir / fname)\n",
    "\n",
    "make_subset(\"train\", start_index=0, end_index=1000)\n",
    "make_subset(\"validation\", start_index=1000, end_index=1500)\n",
    "make_subset(\"test\", start_index=1500, end_index=2500)\n"
   ]
  },
  {
   "cell_type": "code",
   "execution_count": null,
   "metadata": {},
   "outputs": [],
   "source": [
    "data_folder = pathlib.Path('../data/strawberry')\n",
    "\n",
    "from tensorflow.keras.utils import image_dataset_from_directory\n",
    "\n",
    "train_dataset = image_dataset_from_directory(\n",
    "    data_folder / \"train\",\n",
    "    image_size=(180, 180),\n",
    "    batch_size=32)\n",
    "validation_dataset = image_dataset_from_directory(\n",
    "    data_folder / \"validation\",\n",
    "    image_size=(180, 180),\n",
    "    batch_size=32)\n",
    "test_dataset = image_dataset_from_directory(\n",
    "    data_folder / \"test\",\n",
    "    image_size=(180, 180),\n",
    "    batch_size=32)\n",
    "\n"
   ]
  },
  {
   "cell_type": "markdown",
   "metadata": {},
   "source": []
  }
 ],
 "metadata": {
  "kernelspec": {
   "display_name": "tensorflow_cpu",
   "language": "python",
   "name": "python3"
  },
  "language_info": {
   "codemirror_mode": {
    "name": "ipython",
    "version": 3
   },
   "file_extension": ".py",
   "mimetype": "text/x-python",
   "name": "python",
   "nbconvert_exporter": "python",
   "pygments_lexer": "ipython3",
   "version": "3.11.9"
  }
 },
 "nbformat": 4,
 "nbformat_minor": 2
}
